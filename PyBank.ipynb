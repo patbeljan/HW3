{
 "cells": [
  {
   "cell_type": "code",
   "execution_count": 138,
   "metadata": {},
   "outputs": [],
   "source": [
    "# import necessary packages\n",
    "import pandas as pd"
   ]
  },
  {
   "cell_type": "code",
   "execution_count": 139,
   "metadata": {},
   "outputs": [
    {
     "data": {
      "text/html": [
       "<div>\n",
       "<style scoped>\n",
       "    .dataframe tbody tr th:only-of-type {\n",
       "        vertical-align: middle;\n",
       "    }\n",
       "\n",
       "    .dataframe tbody tr th {\n",
       "        vertical-align: top;\n",
       "    }\n",
       "\n",
       "    .dataframe thead th {\n",
       "        text-align: right;\n",
       "    }\n",
       "</style>\n",
       "<table border=\"1\" class=\"dataframe\">\n",
       "  <thead>\n",
       "    <tr style=\"text-align: right;\">\n",
       "      <th></th>\n",
       "      <th>Date</th>\n",
       "      <th>Profit/Losses</th>\n",
       "    </tr>\n",
       "  </thead>\n",
       "  <tbody>\n",
       "    <tr>\n",
       "      <th>0</th>\n",
       "      <td>Jan-2010</td>\n",
       "      <td>867884</td>\n",
       "    </tr>\n",
       "    <tr>\n",
       "      <th>1</th>\n",
       "      <td>Feb-2010</td>\n",
       "      <td>984655</td>\n",
       "    </tr>\n",
       "    <tr>\n",
       "      <th>2</th>\n",
       "      <td>Mar-2010</td>\n",
       "      <td>322013</td>\n",
       "    </tr>\n",
       "    <tr>\n",
       "      <th>3</th>\n",
       "      <td>Apr-2010</td>\n",
       "      <td>-69417</td>\n",
       "    </tr>\n",
       "    <tr>\n",
       "      <th>4</th>\n",
       "      <td>May-2010</td>\n",
       "      <td>310503</td>\n",
       "    </tr>\n",
       "  </tbody>\n",
       "</table>\n",
       "</div>"
      ],
      "text/plain": [
       "       Date  Profit/Losses\n",
       "0  Jan-2010         867884\n",
       "1  Feb-2010         984655\n",
       "2  Mar-2010         322013\n",
       "3  Apr-2010         -69417\n",
       "4  May-2010         310503"
      ]
     },
     "execution_count": 139,
     "metadata": {},
     "output_type": "execute_result"
    }
   ],
   "source": [
    "# read csv file and create DataFrame\n",
    "file = 'Resources/budget_data.csv'\n",
    "budget_data = pd.read_csv(file)\n",
    "budget_data.head()"
   ]
  },
  {
   "cell_type": "code",
   "execution_count": 140,
   "metadata": {},
   "outputs": [],
   "source": [
    "# Count the number of months\n",
    "month_count = budget_data['Date'].count()\n",
    "#month_count"
   ]
  },
  {
   "cell_type": "code",
   "execution_count": 141,
   "metadata": {},
   "outputs": [],
   "source": [
    "# Find the total Profit or loss for the period\n",
    "total_PL = budget_data['Profit/Losses'].sum()\n",
    "#total_PL"
   ]
  },
  {
   "cell_type": "code",
   "execution_count": 142,
   "metadata": {},
   "outputs": [],
   "source": [
    "# Find the average change between each period's net income\n",
    "changes = []\n",
    "for i in range(0, month_count-1):\n",
    "    changes.append(budget_data['Profit/Losses'][i+1] - budget_data['Profit/Losses'][i])\n",
    "    \n",
    "avg_change = sum(changes)/len(changes)\n",
    "avg_change = avg_change.round(2)\n"
   ]
  },
  {
   "cell_type": "code",
   "execution_count": 143,
   "metadata": {},
   "outputs": [
    {
     "data": {
      "text/plain": [
       "44"
      ]
     },
     "execution_count": 143,
     "metadata": {},
     "output_type": "execute_result"
    }
   ],
   "source": [
    "# Use the idxmax and idxmin methods to find the extrema of the data set's Profit/Losses\n",
    "index_max = budget_data['Profit/Losses'].idxmax(axis = 1)\n",
    "index_max\n",
    "index_min = budget_data['Profit/Losses'].idxmin(axis = 1)\n",
    "index_min"
   ]
  },
  {
   "cell_type": "code",
   "execution_count": 144,
   "metadata": {},
   "outputs": [
    {
     "name": "stdout",
     "output_type": "stream",
     "text": [
      "Financial Analysis \n",
      "\n",
      "---------------------------\n",
      "Total Months: 86\n",
      "Total: $38382578\n",
      "Average Change: $-2315.12\n",
      "Greatest Increase in Profits:  Feb-2012  (1170593)\n",
      "Greatest Decrease in Profits:  Sep-2013  (-1196225)\n"
     ]
    }
   ],
   "source": [
    "# Print in the desired format\n",
    "print(\"Financial Analysis \\n\")\n",
    "print('---------------------------')\n",
    "print('Total Months: ' + str(month_count))\n",
    "print('Total: $' + str(total_PL))\n",
    "print('Average Change: $' + str(avg_change))\n",
    "\n",
    "\n",
    "Increase_row = budget_data.iloc[index_max]\n",
    "Increase = Increase_row.values.tolist()\n",
    "print(\"Greatest Increase in Profits: \", end = \" \")\n",
    "count = 1\n",
    "for item in Increase:\n",
    "    if count == 2:\n",
    "        print(\"(\"+ str(item) + \")\")\n",
    "    else:\n",
    "        print(str(item) + \" \", end = \" \")\n",
    "    count += 1\n",
    "    \n",
    "    \n",
    "decrease_row = budget_data.iloc[index_min]\n",
    "decrease = decrease_row.values.tolist()\n",
    "print(\"Greatest Decrease in Profits: \", end = \" \") \n",
    "count = 1\n",
    "for item in decrease:\n",
    "    if count == 2:\n",
    "        print(\"(\"+ str(item) + \")\")\n",
    "    else:\n",
    "        print(str(item) + \" \", end = \" \")\n",
    "    count += 1"
   ]
  },
  {
   "cell_type": "code",
   "execution_count": 145,
   "metadata": {},
   "outputs": [],
   "source": [
    "# Create a text file in the desired format\n",
    "f = open('PyBankText.txt', \"w+\") \n",
    "f.write(\"Financial Analysis \\n\")\n",
    "f.write('--------------------------- \\n')\n",
    "f.write('Total Months: ' + str(month_count) + \"\\n\")\n",
    "f.write('Total: $' + str(total_PL)+ \"\\n\")\n",
    "f.write('Average Change: $' + str(avg_change)+ \"\\n\")\n",
    "Increase_row = budget_data.iloc[index_max]\n",
    "Increase = Increase_row.values.tolist()\n",
    "f.write(\"Greatest Increase in Profits: \")\n",
    "count = 1\n",
    "for item in Increase:\n",
    "    if count == 2:\n",
    "        f.write(\"(\")\n",
    "        f.write(str(item))\n",
    "        f.write(\")\")\n",
    "    else:\n",
    "        f.write(str(item) + \" \")\n",
    "    count += 1\n",
    "f.write(\" \\n\")\n",
    "decrease_row = budget_data.iloc[index_min]\n",
    "decrease = decrease_row.values.tolist()\n",
    "f.write(\"Greatest Decrease in Profits: \") \n",
    "count = 1\n",
    "for item in decrease:\n",
    "    if count == 2:\n",
    "        f.write(\"(\")\n",
    "        f.write(str(item))\n",
    "        f.write(\")\")\n",
    "    else:\n",
    "        f.write(str(item) + \" \")\n",
    "    count += 1\n",
    "f.close()"
   ]
  }
 ],
 "metadata": {
  "kernelspec": {
   "display_name": "Python 3",
   "language": "python",
   "name": "python3"
  },
  "language_info": {
   "codemirror_mode": {
    "name": "ipython",
    "version": 3
   },
   "file_extension": ".py",
   "mimetype": "text/x-python",
   "name": "python",
   "nbconvert_exporter": "python",
   "pygments_lexer": "ipython3",
   "version": "3.7.3"
  }
 },
 "nbformat": 4,
 "nbformat_minor": 2
}
